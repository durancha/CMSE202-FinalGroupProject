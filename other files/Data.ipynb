{
 "cells": [
  {
   "cell_type": "code",
   "execution_count": 1,
   "id": "1503ff77",
   "metadata": {},
   "outputs": [
    {
     "data": {
      "text/html": [
       "<div>\n",
       "<style scoped>\n",
       "    .dataframe tbody tr th:only-of-type {\n",
       "        vertical-align: middle;\n",
       "    }\n",
       "\n",
       "    .dataframe tbody tr th {\n",
       "        vertical-align: top;\n",
       "    }\n",
       "\n",
       "    .dataframe thead th {\n",
       "        text-align: right;\n",
       "    }\n",
       "</style>\n",
       "<table border=\"1\" class=\"dataframe\">\n",
       "  <thead>\n",
       "    <tr style=\"text-align: right;\">\n",
       "      <th></th>\n",
       "      <th>Name</th>\n",
       "      <th>Date</th>\n",
       "      <th>Open</th>\n",
       "      <th>High</th>\n",
       "      <th>Low</th>\n",
       "      <th>Close</th>\n",
       "    </tr>\n",
       "  </thead>\n",
       "  <tbody>\n",
       "    <tr>\n",
       "      <th>0</th>\n",
       "      <td>SPX.GI</td>\n",
       "      <td>2019-12-05 10:20</td>\n",
       "      <td>3105.66</td>\n",
       "      <td>3108.78</td>\n",
       "      <td>3105.66</td>\n",
       "      <td>3108.74</td>\n",
       "    </tr>\n",
       "    <tr>\n",
       "      <th>1</th>\n",
       "      <td>SPX.GI</td>\n",
       "      <td>2019-12-05 10:25</td>\n",
       "      <td>3108.73</td>\n",
       "      <td>3109.20</td>\n",
       "      <td>3107.96</td>\n",
       "      <td>3108.40</td>\n",
       "    </tr>\n",
       "    <tr>\n",
       "      <th>2</th>\n",
       "      <td>SPX.GI</td>\n",
       "      <td>2019-12-05 10:30</td>\n",
       "      <td>3108.42</td>\n",
       "      <td>3109.97</td>\n",
       "      <td>3107.70</td>\n",
       "      <td>3109.81</td>\n",
       "    </tr>\n",
       "    <tr>\n",
       "      <th>3</th>\n",
       "      <td>SPX.GI</td>\n",
       "      <td>2019-12-05 10:35</td>\n",
       "      <td>3109.72</td>\n",
       "      <td>3111.60</td>\n",
       "      <td>3109.58</td>\n",
       "      <td>3110.56</td>\n",
       "    </tr>\n",
       "    <tr>\n",
       "      <th>4</th>\n",
       "      <td>SPX.GI</td>\n",
       "      <td>2019-12-05 10:40</td>\n",
       "      <td>3110.65</td>\n",
       "      <td>3111.20</td>\n",
       "      <td>3109.36</td>\n",
       "      <td>3109.82</td>\n",
       "    </tr>\n",
       "    <tr>\n",
       "      <th>...</th>\n",
       "      <td>...</td>\n",
       "      <td>...</td>\n",
       "      <td>...</td>\n",
       "      <td>...</td>\n",
       "      <td>...</td>\n",
       "      <td>...</td>\n",
       "    </tr>\n",
       "    <tr>\n",
       "      <th>57285</th>\n",
       "      <td>SPX.GI</td>\n",
       "      <td>2022-11-11 15:40</td>\n",
       "      <td>3988.72</td>\n",
       "      <td>3995.15</td>\n",
       "      <td>3988.08</td>\n",
       "      <td>3994.93</td>\n",
       "    </tr>\n",
       "    <tr>\n",
       "      <th>57286</th>\n",
       "      <td>SPX.GI</td>\n",
       "      <td>2022-11-11 15:45</td>\n",
       "      <td>3994.89</td>\n",
       "      <td>3997.88</td>\n",
       "      <td>3994.41</td>\n",
       "      <td>3997.82</td>\n",
       "    </tr>\n",
       "    <tr>\n",
       "      <th>57287</th>\n",
       "      <td>SPX.GI</td>\n",
       "      <td>2022-11-11 15:50</td>\n",
       "      <td>3997.87</td>\n",
       "      <td>4001.28</td>\n",
       "      <td>3996.24</td>\n",
       "      <td>3999.07</td>\n",
       "    </tr>\n",
       "    <tr>\n",
       "      <th>57288</th>\n",
       "      <td>SPX.GI</td>\n",
       "      <td>2022-11-11 15:55</td>\n",
       "      <td>3999.06</td>\n",
       "      <td>4000.29</td>\n",
       "      <td>3993.02</td>\n",
       "      <td>3994.29</td>\n",
       "    </tr>\n",
       "    <tr>\n",
       "      <th>57289</th>\n",
       "      <td>SPX.GI</td>\n",
       "      <td>2022-11-11 17:06</td>\n",
       "      <td>3994.37</td>\n",
       "      <td>3994.39</td>\n",
       "      <td>3990.16</td>\n",
       "      <td>3992.93</td>\n",
       "    </tr>\n",
       "  </tbody>\n",
       "</table>\n",
       "<p>57290 rows × 6 columns</p>\n",
       "</div>"
      ],
      "text/plain": [
       "         Name              Date     Open     High      Low    Close\n",
       "0      SPX.GI  2019-12-05 10:20  3105.66  3108.78  3105.66  3108.74\n",
       "1      SPX.GI  2019-12-05 10:25  3108.73  3109.20  3107.96  3108.40\n",
       "2      SPX.GI  2019-12-05 10:30  3108.42  3109.97  3107.70  3109.81\n",
       "3      SPX.GI  2019-12-05 10:35  3109.72  3111.60  3109.58  3110.56\n",
       "4      SPX.GI  2019-12-05 10:40  3110.65  3111.20  3109.36  3109.82\n",
       "...       ...               ...      ...      ...      ...      ...\n",
       "57285  SPX.GI  2022-11-11 15:40  3988.72  3995.15  3988.08  3994.93\n",
       "57286  SPX.GI  2022-11-11 15:45  3994.89  3997.88  3994.41  3997.82\n",
       "57287  SPX.GI  2022-11-11 15:50  3997.87  4001.28  3996.24  3999.07\n",
       "57288  SPX.GI  2022-11-11 15:55  3999.06  4000.29  3993.02  3994.29\n",
       "57289  SPX.GI  2022-11-11 17:06  3994.37  3994.39  3990.16  3992.93\n",
       "\n",
       "[57290 rows x 6 columns]"
      ]
     },
     "execution_count": 1,
     "metadata": {},
     "output_type": "execute_result"
    }
   ],
   "source": [
    "import pandas as pd \n",
    "\n",
    "data = pd.read_csv(\"S&P500.csv\")\n",
    "data"
   ]
  },
  {
   "cell_type": "code",
   "execution_count": 8,
   "id": "d9b14759",
   "metadata": {},
   "outputs": [
    {
     "data": {
      "text/plain": [
       "3108.74"
      ]
     },
     "execution_count": 8,
     "metadata": {},
     "output_type": "execute_result"
    }
   ],
   "source": [
    "data.loc[0,\"Close\"]"
   ]
  },
  {
   "cell_type": "code",
   "execution_count": 14,
   "id": "0b162751",
   "metadata": {},
   "outputs": [
    {
     "data": {
      "text/plain": [
       "[<matplotlib.lines.Line2D at 0x7ff7c62122b0>]"
      ]
     },
     "execution_count": 14,
     "metadata": {},
     "output_type": "execute_result"
    },
    {
     "data": {
      "image/png": "[encoded data removed]",
      "text/plain": [
       "<Figure size 432x288 with 1 Axes>"
      ]
     },
     "metadata": {
      "needs_background": "light"
     },
     "output_type": "display_data"
    }
   ],
   "source": [
    "import matplotlib.pyplot as plt\n",
    "fig = plt.figure()\n",
    "plt.plot(data[\"Close\"])"
   ]
  },
  {
   "cell_type": "code",
   "execution_count": 21,
   "id": "3ed907f7",
   "metadata": {},
   "outputs": [],
   "source": [
    "import numpy as np\n",
    "data[\"log_return\"] = np.nan\n",
    "for i in range(1,57290):\n",
    "    data.loc[i,\"log_return_sqr\"] = (np.log(data.loc[i,\"Close\"])-np.log(data.loc[i-1,\"Close\"])*100)**2"
   ]
  },
  {
   "cell_type": "code",
   "execution_count": 22,
   "id": "101e0709",
   "metadata": {},
   "outputs": [
    {
     "data": {
      "text/plain": [
       "[<matplotlib.lines.Line2D at 0x7ff7c614ba00>]"
      ]
     },
     "execution_count": 22,
     "metadata": {},
     "output_type": "execute_result"
    },
    {
     "data": {
      "image/png": "[encoded data removed]",
      "text/plain": [
       "<Figure size 432x288 with 1 Axes>"
      ]
     },
     "metadata": {
      "needs_background": "light"
     },
     "output_type": "display_data"
    }
   ],
   "source": [
    "plt.plot(data[\"log_return_sqr\"])"
   ]
  },
  {
   "cell_type": "code",
   "execution_count": 20,
   "id": "3beb9ea2",
   "metadata": {},
   "outputs": [
    {
     "data": {
      "text/plain": [
       "str"
      ]
     },
     "execution_count": 20,
     "metadata": {},
     "output_type": "execute_result"
    }
   ],
   "source": [
    "type(data.loc[0,\"Date\"])"
   ]
  },
  {
   "cell_type": "code",
   "execution_count": null,
   "id": "7f44dc57",
   "metadata": {},
   "outputs": [],
   "source": []
  }
 ],
 "metadata": {
  "kernelspec": {
   "display_name": "Python 3",
   "language": "python",
   "name": "python3"
  },
  "language_info": {
   "codemirror_mode": {
    "name": "ipython",
    "version": 3
   },
   "file_extension": ".py",
   "mimetype": "text/x-python",
   "name": "python",
   "nbconvert_exporter": "python",
   "pygments_lexer": "ipython3",
   "version": "3.8.8"
  }
 },
 "nbformat": 4,
 "nbformat_minor": 5
}
